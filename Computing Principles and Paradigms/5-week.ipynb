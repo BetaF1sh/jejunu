{
 "cells": [
  {
   "cell_type": "markdown",
   "metadata": {},
   "source": [
    "## 포인터와 가까운 객체 찾아주는 `getNearest()` 만들어보기\n",
    "\n",
    "가장 작은 `dist(x1, y1, x2, y2)` 의 i 주소값 색인하기\n",
    "- https://processing.org/reference/dist_.html\n",
    "\n",
    "### `float minDist = width + height;`\n",
    "`size()` 로 정한 평면에서 존재할 수 없는 더미 값이다.\n"
   ]
  },
  {
   "cell_type": "code",
   "execution_count": null,
   "metadata": {},
   "outputs": [],
   "source": [
    "float[] cx, cy;\n",
    "\n",
    "int nearest;\n",
    "\n",
    "void setup() {\n",
    "    size(600, 600);\n",
    "    background(128);\n",
    "    textSize(30);\n",
    "    textAlign(CENTER, CENTER);\n",
    "    \n",
    "    cx = new float[10];\n",
    "    cy = new float[10];\n",
    "    for (int i = 0; i < 10; i += 1) {\n",
    "        cx[i] = random(50, width - 50); // 50 정도 여백을 줌.\n",
    "        cy[i] = random(50, height - 50);\n",
    "    }\n",
    "}\n",
    "\n",
    "void draw() {\n",
    "    background(128);\n",
    "    for (int i = 0; i < 10; i += 1) {\n",
    "        if (i == nearest) fill(255, 0, 0);\n",
    "        else fill(255);\n",
    "        ellipse(cx[i], cy[i], 100, 100);\n",
    "        fill(0);\n",
    "        text(i, cx[i], cy[i]);\n",
    "    }\n",
    "}\n",
    "\n",
    "int getNearest()\n",
    "{\n",
    "    int min = 0;\n",
    "    float minDist = width + height;\n",
    "    for (int i = 0; i < 10; i++) {\n",
    "        float d = dist(cx[i], cy[i], mouseX, mouseY);\n",
    "        if (d < minDist) {\n",
    "            minDist = d;\n",
    "            min = i;\n",
    "        }\n",
    "    }\n",
    "    return min;\n",
    "}\n",
    "\n",
    "\n",
    "void mouseMoved()\n",
    "{\n",
    "    nearest = getNearest();\n",
    "}\n"
   ]
  },
  {
   "cell_type": "markdown",
   "metadata": {},
   "source": [
    "`mouseDragged()` 이벤트로 근접한 객체의 `cx[i]`, `cy[i]` 값을 바꿔볼 수도 있음"
   ]
  },
  {
   "cell_type": "code",
   "execution_count": null,
   "metadata": {},
   "outputs": [],
   "source": [
    "void mouseDragged()\n",
    "{\n",
    "    cx[nearest] += mouseX - pmouseX;\n",
    "    cy[nearest] += mouseY - pmouseY;\n",
    "}"
   ]
  }
 ],
 "metadata": {
  "kernelspec": {
   "display_name": "Calysto Processing",
   "language": "java",
   "name": "calysto_processing"
  },
  "language_info": {
   "codemirror_mode": {
    "name": "text/x-java",
    "version": 2
   },
   "file_extension": ".java",
   "mimetype": "text/x-java",
   "name": "java"
  }
 },
 "nbformat": 4,
 "nbformat_minor": 2
}

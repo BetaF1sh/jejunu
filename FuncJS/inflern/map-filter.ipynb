{
 "cells": [
  {
   "cell_type": "code",
   "execution_count": 1,
   "metadata": {},
   "outputs": [
    {
     "data": {
      "text/plain": [
       "undefined"
      ]
     },
     "execution_count": 1,
     "metadata": {},
     "output_type": "execute_result"
    }
   ],
   "source": [
    "var users = [\n",
    "  { id: 1, name: 'ID', age: 36 },\n",
    "  { id: 2, name: 'BJ', age: 32 },\n",
    "  { id: 3, name: 'JM', age: 32 },\n",
    "  { id: 4, name: 'PJ', age: 27 },\n",
    "  { id: 5, name: 'HA', age: 25 },\n",
    "  { id: 6, name: 'JE', age: 26 },\n",
    "  { id: 7, name: 'JI', age: 31 },\n",
    "  { id: 8, name: 'MP', age: 23 }\n",
    "];"
   ]
  },
  {
   "cell_type": "code",
   "execution_count": 4,
   "metadata": {},
   "outputs": [
    {
     "name": "stdout",
     "output_type": "stream",
     "text": [
      "[ { id: 1, name: 'ID', age: 36 },\n",
      "  { id: 2, name: 'BJ', age: 32 },\n",
      "  { id: 3, name: 'JM', age: 32 },\n",
      "  { id: 7, name: 'JI', age: 31 } ]\n"
     ]
    },
    {
     "data": {
      "text/plain": [
       "undefined"
      ]
     },
     "execution_count": 4,
     "metadata": {},
     "output_type": "execute_result"
    }
   ],
   "source": [
    "var temp_users = [];\n",
    "for (var i = 0; i < users.length; i++) {\n",
    "  if (users[i].age >= 30) {\n",
    "    temp_users.push(users[i]);\n",
    "  }\n",
    "}\n",
    "console.log(temp_users);"
   ]
  },
  {
   "cell_type": "code",
   "execution_count": 5,
   "metadata": {},
   "outputs": [
    {
     "name": "stdout",
     "output_type": "stream",
     "text": [
      "[ 'ID', 'BJ', 'JM', 'JI' ]\n"
     ]
    },
    {
     "data": {
      "text/plain": [
       "undefined"
      ]
     },
     "execution_count": 5,
     "metadata": {},
     "output_type": "execute_result"
    }
   ],
   "source": [
    "var names = [];\n",
    "for (var i = 0; i < temp_users.length; i++){\n",
    "    names.push(temp_users[i].name);\n",
    "}\n",
    "\n",
    "console.log(names);"
   ]
  },
  {
   "cell_type": "code",
   "execution_count": 4,
   "metadata": {},
   "outputs": [
    {
     "data": {
      "text/plain": [
       "undefined"
      ]
     },
     "execution_count": 4,
     "metadata": {},
     "output_type": "execute_result"
    }
   ],
   "source": [
    "function _filter(users, predic){\n",
    "    var list = [];\n",
    "    for (var i = 0; i < users.length; i++) {\n",
    "        if (predic(users[i])) {\n",
    "            list.push(users[i]);\n",
    "        }\n",
    "    }\n",
    "    return list;\n",
    "}"
   ]
  },
  {
   "cell_type": "code",
   "execution_count": 5,
   "metadata": {
    "scrolled": false
   },
   "outputs": [
    {
     "name": "stdout",
     "output_type": "stream",
     "text": [
      "[ { id: 1, name: 'ID', age: 36 },\n",
      "  { id: 2, name: 'BJ', age: 32 },\n",
      "  { id: 3, name: 'JM', age: 32 },\n",
      "  { id: 7, name: 'JI', age: 31 } ]\n"
     ]
    },
    {
     "data": {
      "text/plain": [
       "undefined"
      ]
     },
     "execution_count": 5,
     "metadata": {},
     "output_type": "execute_result"
    }
   ],
   "source": [
    "console.log(\n",
    "    _filter(users, function(user) { return user.age >= 30; })\n",
    ");"
   ]
  },
  {
   "cell_type": "code",
   "execution_count": 6,
   "metadata": {
    "scrolled": true
   },
   "outputs": [
    {
     "name": "stdout",
     "output_type": "stream",
     "text": [
      "[ { id: 4, name: 'PJ', age: 27 },\n",
      "  { id: 5, name: 'HA', age: 25 },\n",
      "  { id: 6, name: 'JE', age: 26 },\n",
      "  { id: 8, name: 'MP', age: 23 } ]\n"
     ]
    },
    {
     "data": {
      "text/plain": [
       "undefined"
      ]
     },
     "execution_count": 6,
     "metadata": {},
     "output_type": "execute_result"
    }
   ],
   "source": [
    "console.log(\n",
    "    _filter(users, function(user) { return user.age < 30; })\n",
    "    );"
   ]
  },
  {
   "cell_type": "code",
   "execution_count": 9,
   "metadata": {
    "scrolled": true
   },
   "outputs": [
    {
     "name": "stdout",
     "output_type": "stream",
     "text": [
      "[ 1, 3 ]\n"
     ]
    },
    {
     "data": {
      "text/plain": [
       "undefined"
      ]
     },
     "execution_count": 9,
     "metadata": {},
     "output_type": "execute_result"
    }
   ],
   "source": [
    "console.log(\n",
    "    _filter([1, 2, 3, 4], function(num) {return num % 2; })\n",
    ");"
   ]
  },
  {
   "cell_type": "code",
   "execution_count": 11,
   "metadata": {},
   "outputs": [
    {
     "data": {
      "text/plain": [
       "undefined"
      ]
     },
     "execution_count": 11,
     "metadata": {},
     "output_type": "execute_result"
    }
   ],
   "source": [
    "function _map(list, mapper) {\n",
    "    var new_list = [];\n",
    "    for (var i = 0; i < list.length; i++) {\n",
    "        new_list.push(mapper(list[i]));\n",
    "    }\n",
    "    return new_list;\n",
    "}"
   ]
  },
  {
   "cell_type": "code",
   "execution_count": 12,
   "metadata": {},
   "outputs": [
    {
     "name": "stdout",
     "output_type": "stream",
     "text": [
      "[ 27, 25, 26, 23 ]\n"
     ]
    },
    {
     "data": {
      "text/plain": [
       "undefined"
      ]
     },
     "execution_count": 12,
     "metadata": {},
     "output_type": "execute_result"
    }
   ],
   "source": [
    "var under_30 = _filter(users, function(user) { return user.age < 30; });\n",
    "\n",
    "var ages = _map(under_30, function(user) { return user.age});\n",
    "\n",
    "console.log(ages);"
   ]
  },
  {
   "cell_type": "code",
   "execution_count": 13,
   "metadata": {},
   "outputs": [
    {
     "name": "stdout",
     "output_type": "stream",
     "text": [
      "[ 2, 4, 6 ]\n"
     ]
    },
    {
     "data": {
      "text/plain": [
       "undefined"
      ]
     },
     "execution_count": 13,
     "metadata": {},
     "output_type": "execute_result"
    }
   ],
   "source": [
    "console.log(_map([1, 2, 3], function(num) { return num * 2}));"
   ]
  },
  {
   "cell_type": "code",
   "execution_count": 14,
   "metadata": {},
   "outputs": [
    {
     "data": {
      "text/plain": [
       "[ 'PJ', 'HA', 'JE', 'MP' ]"
      ]
     },
     "execution_count": 14,
     "metadata": {},
     "output_type": "execute_result"
    }
   ],
   "source": [
    "_map(\n",
    "    _filter(users, function(user) { return user.age < 30; }),\n",
    "    function(user) { return user.name}\n",
    ");"
   ]
  },
  {
   "cell_type": "code",
   "execution_count": null,
   "metadata": {},
   "outputs": [],
   "source": []
  }
 ],
 "metadata": {
  "kernelspec": {
   "display_name": "Javascript (Node.js)",
   "language": "javascript",
   "name": "javascript"
  },
  "language_info": {
   "file_extension": ".js",
   "mimetype": "application/javascript",
   "name": "javascript",
   "version": "9.8.0"
  }
 },
 "nbformat": 4,
 "nbformat_minor": 2
}

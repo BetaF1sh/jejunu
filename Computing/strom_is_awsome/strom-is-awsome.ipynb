{
 "cells": [
  {
   "cell_type": "markdown",
   "metadata": {},
   "source": [
    "# 히어로즈 오브 더 스톰 : 시공의 폭풍\n",
    "\n",
    "## 설명\n",
    "\n",
    "히어로즈 오브 더 스톰이라는 온라인 게임이 있는데, 2016-2017년 사이 쯤 게임 제목 자체가 인터넷 상의 패러디의 대상으로 화제가 된 적이 있었습니다.\n",
    "\n",
    "그러한 패러디 작품 중에 도탁스라는 게임 커뮤니티의 게시글 중 '히어로즈 오브 더 스톰' 게임 심볼을 소용돌이 삼아  CSS의 `transform` 기능으로 모든 HTML 엘리먼트가 빨려드려가는 애니매이션을 보여주는 작품이 있었습니다.\n",
    "> [도탁스 (DOTAX) | 🌀🌀🌀🌀🌀🌀 히어로즈 오브 더 탁스 🌀🌀🌀🌀🌀🌀](http://cafe.daum.net/dotax/FGFP/9109?q=%C8%F7%BE%EE%B7%CE%C1%EE%20%BF%C0%BA%EA%20%B4%F5%20%C5%B9%BD%BA%20%EC%8B%9C%EA%B3%B5%EC%9D%98%20%ED%8F%AD%ED%92%8D%EC%9D%80%20%EC%A0%95%EB%A7%90%20%EC%B5%9C%EA%B3%A0%EC%95%BC)\n",
    "\n",
    "\n",
    "시절 흥미롭기도 하고, 구체적으로 어떻게 코드가 실행되는지 궁금해서 고등학교 홈페이지의 HTML 엘리먼트에 맞게 수정했던 적이 있습니다.\n",
    "\n",
    "> 해당 영상 : https://youtu.be/2AR-Z1QKcLw\n",
    "\n",
    "개인적으로 '회전'이라 하면 가장 먼저 생각나는 작품이라, 해당 작품을 프로세싱로 구현해봤습니다.\n",
    "\n",
    "## 사용된 Transform 관련 메서드\n",
    "\n",
    "`rotate(), scale(), translate()`\n",
    "\n",
    "## `processing.sound.*` 라이브러리 설치\n",
    "\n",
    "애니매이션과 함께 `hios_is_awsome.mp3`, `i_love_hios_x3.mp3` 을 재생하기 위해 외부 모듈이 필요합니다.\n",
    "\n",
    "`Sketch -> import Library -> Add Library -> Sound` 설치"
   ]
  }
 ],
 "metadata": {
  "kernelspec": {
   "display_name": "Calysto Processing",
   "language": "java",
   "name": "calysto_processing"
  },
  "language_info": {
   "codemirror_mode": {
    "name": "text/x-java",
    "version": 2
   },
   "file_extension": ".java",
   "mimetype": "text/x-java",
   "name": "java"
  }
 },
 "nbformat": 4,
 "nbformat_minor": 2
}

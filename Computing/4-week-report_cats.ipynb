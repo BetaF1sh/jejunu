{
 "cells": [
  {
   "cell_type": "markdown",
   "metadata": {},
   "source": [
    "# 과제 대신 귀여운 고양이를 드려도 될까요?\n",
    "\n",
    "## 고양이를 드리는 방법\n",
    "\n",
    "미리 `images/cats/0 ~ 13.png`로 준비한 14마리의 고양이를 `draw()` 함수 내에서 색인 시키고,\n",
    "\n",
    "```pde\n",
    "void draw() {\n",
    "    rand = int(random(0, 13));\n",
    "    takeImage(\"images/cats/\" + rand + \".png\");\n",
    "}\n",
    "```\n",
    "\n",
    "`takeImage()` 함수로 최종적으로 매번 불러옵니다.\n",
    "\n",
    "```pde\n",
    "void takeImage(String fn) {\n",
    "    cat = loadImage(fn);\n",
    "}\n",
    "```\n",
    "\n",
    "마우스 커서의 위치의 대략 `-120 ~ -90` 정도에 고양이를 풀어놓으면 끝입니다!\n",
    "\n",
    "```pde\n",
    "void mouseClicked() {\n",
    "    image(cat, mouseX - 120, mouseY - 90, width/4, height/4);\n",
    "}\n",
    "```\n",
    "\n",
    "## 이 고양이들은 어디서 왔나요?\n",
    "- http://www.stickpng.com/cat/animals/cats\n",
    "- http://www.stickpng.com/search?q=doge\n",
    "\n",
    "## 드리면서 고민했던 문제\n",
    "1. `mouseClicked()`이나 `mousePressed()` 너무 느린 것 같습니다. 두번 정도 클릭해야 이벤트가 반응 오는 것 같네요.\n",
    "\n",
    "    `draw()` 함수 내에서 `if (mousePressed() == true){}` 같이 처리해도 반응 속도는 같습니다..\n",
    "\n",
    "    해결 : 단지 웹 브라우저 단(Jupyter notebook)에서 실행하다 보니 느렸네요.\n",
    "\n",
    "2. 왜 `-120 ~ -90` 정도 잡아야 커서와 근접한 위치에 놓이는지 모르겠습니다.\n",
    "    > The default mode is `imageMode(CORNER)`, which interprets the second and third parameters of `image()` as the upper-left corner of the image. If two additional parameters are specified, they are used to set the image's width and height. - [imageMode() / Language(API)](https://processing.org/reference/imageMode_.html)\n",
    "    \n",
    "    해결 : `imageMode()` 의 기본 모드가 `CORNER` 인데, 이게 좌상단에 놓인다고 하네요. `CENTER`로 수정하니 커서 위치에 바르게 놓아집니다.\n",
    "    \n",
    "    실제로는 우하단에 놓여졌는데 문서에선 왜 좌상단에 위치한다고 되어있는지 모르겠습니다.\n"
   ]
  },
  {
   "cell_type": "code",
   "execution_count": null,
   "metadata": {
    "scrolled": false
   },
   "outputs": [],
   "source": [
    "PImage cat;\n",
    "int rand;\n",
    "\n",
    "void setup()\n",
    "{\n",
    "    size (1080, 720);\n",
    "    background(128);\n",
    "}\n",
    "\n",
    "void draw() {\n",
    "    rand = int(random(0, 13));\n",
    "    takeImage(\"images/cats/\" + rand + \".png\");\n",
    "}\n",
    "\n",
    "void takeImage(String fn) {\n",
    "    cat = loadImage(fn);\n",
    "}\n",
    "\n",
    "void mouseClicked() {\n",
    "    imageMode(CENTER);\n",
    "    image(cat, mouseX, mouseY, width/4, height/4);\n",
    "}"
   ]
  }
 ],
 "metadata": {
  "kernelspec": {
   "display_name": "Calysto Processing",
   "language": "java",
   "name": "calysto_processing"
  },
  "language_info": {
   "codemirror_mode": {
    "name": "text/x-java",
    "version": 2
   },
   "file_extension": ".java",
   "mimetype": "text/x-java",
   "name": "java"
  }
 },
 "nbformat": 4,
 "nbformat_minor": 2
}
